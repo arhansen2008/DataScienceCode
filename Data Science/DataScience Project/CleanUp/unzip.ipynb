{
 "cells": [
  {
   "cell_type": "code",
   "execution_count": 1,
   "id": "66bfb001",
   "metadata": {},
   "outputs": [],
   "source": [
    "import zipfile as zf\n",
    "import os\n",
    "\n",
    "# Get the current directory\n",
    "current_directory = os.getcwd()\n",
    "\n",
    "# Specify the zip file and the directory to extract to\n",
    "zip_file = 'Zip.zip'\n",
    "extract_directory = current_directory  # This will extract to the current directory\n",
    "\n",
    "# Extract the contents of the zip file\n",
    "with zf.ZipFile(zip_file, 'r') as files:\n",
    "    files.extractall(extract_directory)\n"
   ]
  },
  {
   "cell_type": "code",
   "execution_count": null,
   "id": "eba1e243",
   "metadata": {},
   "outputs": [],
   "source": []
  }
 ],
 "metadata": {
  "kernelspec": {
   "display_name": "Python 3 (ipykernel)",
   "language": "python",
   "name": "python3"
  },
  "language_info": {
   "codemirror_mode": {
    "name": "ipython",
    "version": 3
   },
   "file_extension": ".py",
   "mimetype": "text/x-python",
   "name": "python",
   "nbconvert_exporter": "python",
   "pygments_lexer": "ipython3",
   "version": "3.9.15"
  }
 },
 "nbformat": 4,
 "nbformat_minor": 5
}
