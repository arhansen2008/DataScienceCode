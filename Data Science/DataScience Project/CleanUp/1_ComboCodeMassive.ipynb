{
 "cells": [
  {
   "cell_type": "code",
   "execution_count": 3,
   "id": "264f3890",
   "metadata": {},
   "outputs": [],
   "source": [
    "import pandas as pd\n",
    "import os\n",
    "\n",
    "# Get the current directory\n",
    "current_directory = os.getcwd()\n",
    "\n",
    "# Initialize the master table with an identifier column\n",
    "master_table = pd.DataFrame()\n",
    "\n",
    "# Get a list of all CSV files in the current directory\n",
    "csv_files = [file for file in os.listdir(current_directory) if file.endswith('.csv')]\n",
    "\n",
    "# Iterate through each CSV file\n",
    "for file in csv_files:\n",
    "    # Read the CSV file into a DataFrame\n",
    "    df = pd.read_csv(os.path.join(current_directory, file))\n",
    "    \n",
    "    # Add an identifier column to preserve data source\n",
    "    df['Source'] = file\n",
    "    \n",
    "    # Merge the data into the master table\n",
    "    master_table = pd.concat([master_table, df], ignore_index=True, sort=False)\n",
    "\n",
    "# Fill NaN (blank) cells with 0\n",
    "master_table.fillna(0, inplace=True)\n",
    "\n",
    "# Export the master table to a CSV file\n",
    "master_table.to_csv(os.path.join(current_directory, 'finaltablecleaned.csv'), index=False)\n"
   ]
  },
  {
   "cell_type": "code",
   "execution_count": null,
   "id": "e89066a8",
   "metadata": {},
   "outputs": [],
   "source": []
  }
 ],
 "metadata": {
  "kernelspec": {
   "display_name": "Python 3 (ipykernel)",
   "language": "python",
   "name": "python3"
  },
  "language_info": {
   "codemirror_mode": {
    "name": "ipython",
    "version": 3
   },
   "file_extension": ".py",
   "mimetype": "text/x-python",
   "name": "python",
   "nbconvert_exporter": "python",
   "pygments_lexer": "ipython3",
   "version": "3.9.15"
  }
 },
 "nbformat": 4,
 "nbformat_minor": 5
}
