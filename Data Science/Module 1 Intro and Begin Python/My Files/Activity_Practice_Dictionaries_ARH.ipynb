{
 "cells": [
  {
   "cell_type": "code",
   "execution_count": null,
   "id": "482461d6",
   "metadata": {},
   "outputs": [],
   "source": [
    "#Alex Hansen 2023.08.25\n",
    "#Dictionary Activity\n",
    "\n",
    "#I had to use the for, if loop to get the dictionary to add new values to existing keys...\n",
    "#Is there an easier way, or a more \"python\" way of doing it? I saw the examples in the video, but...\n",
    "#they did not have duplicate values in the key list, when I tried using that way it overroad the previous value\n",
    "\n",
    "#generate a list\n",
    "#mylist = ['one', 'two', 'three', 'four','five','six','seven','eight','nine','ten'] \n",
    "#I found the L04 list after I made the whole code, so I just commented this out and put in your list, both work\n",
    "mylist = ['apple', 'plum', 'pear', 'peach', 'orange', 'cherry', 'quince']\n",
    "\n",
    "cntlist = [] #placeholder for a list of counts \n",
    "\n",
    "for k, v in enumerate(mylist): #this will make an indexed list, so [0:'one', 1:'two'....k:v]\n",
    "    charcnt=len(v) #this will count the character length of each 'v'\n",
    "    cntlist.append(charcnt) #and add that number to the new list we created earlier\n",
    "    #print(v, charcnt) #can uncomment if you want to see the length of each word\n",
    "\n",
    "combodict = {} #dictionary placeholder\n",
    "\n",
    "for k, v in zip(cntlist, mylist): #zip (combine) the two list togethers....\n",
    "    if k in combodict:\n",
    "        combodict[k].append(v) #without this, each new 3 letter word would over ride the last, this adds new values to existing values of a key\n",
    "    else:\n",
    "        combodict[k] = [v] #if an existing key isn't there, it just adds the new key:value to the dictionary\n",
    "\n",
    "print(combodict) #show me the dictionary!\n",
    "combodict #just a different way to display, but this one creates an output"
   ]
  },
  {
   "cell_type": "code",
   "execution_count": null,
   "id": "e4d456fb",
   "metadata": {},
   "outputs": [],
   "source": []
  }
 ],
 "metadata": {
  "kernelspec": {
   "display_name": "Python 3 (ipykernel)",
   "language": "python",
   "name": "python3"
  },
  "language_info": {
   "codemirror_mode": {
    "name": "ipython",
    "version": 3
   },
   "file_extension": ".py",
   "mimetype": "text/x-python",
   "name": "python",
   "nbconvert_exporter": "python",
   "pygments_lexer": "ipython3",
   "version": "3.9.15"
  }
 },
 "nbformat": 4,
 "nbformat_minor": 5
}
