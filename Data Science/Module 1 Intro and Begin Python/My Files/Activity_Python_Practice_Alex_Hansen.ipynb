{
 "cells": [
  {
   "cell_type": "code",
   "execution_count": null,
   "id": "d620d5d2",
   "metadata": {},
   "outputs": [],
   "source": [
    "#Alex Hansen 2023.08.25\n",
    "\n",
    "\n",
    "n = int(input(\"Enter an integer number: \")) #allow the user to input a number, the text indicates it needs to be an integer, if it is not an integer an error occurs\n",
    "\n",
    "def count5(n):\n",
    "    count = 0 #start the count at zero\n",
    "    while n > 0: #loop until you divide the number all the way down\n",
    "        if n % 10 == 5: #divide by 10 and check the remainder, if it is 5 then count a 5\n",
    "            count += 1\n",
    "        n //= 10 #round after dividing\n",
    "    return count\n",
    "\n",
    "result = count5(n) #counts all the fives\n",
    "print(f\"The digit 5 occurs {result} times in the number.\") #print(f\"\") allows for embedding variables into text strings, like here \"result\"\n",
    "\n",
    "\n",
    "#tested the code with several different numbers, succesful each time"
   ]
  },
  {
   "cell_type": "code",
   "execution_count": null,
   "id": "bef098fd",
   "metadata": {},
   "outputs": [],
   "source": []
  }
 ],
 "metadata": {
  "kernelspec": {
   "display_name": "Python 3 (ipykernel)",
   "language": "python",
   "name": "python3"
  },
  "language_info": {
   "codemirror_mode": {
    "name": "ipython",
    "version": 3
   },
   "file_extension": ".py",
   "mimetype": "text/x-python",
   "name": "python",
   "nbconvert_exporter": "python",
   "pygments_lexer": "ipython3",
   "version": "3.9.15"
  }
 },
 "nbformat": 4,
 "nbformat_minor": 5
}
