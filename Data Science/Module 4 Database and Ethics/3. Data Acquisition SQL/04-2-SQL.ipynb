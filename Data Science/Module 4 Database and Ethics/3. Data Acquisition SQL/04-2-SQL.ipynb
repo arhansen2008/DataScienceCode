{
 "cells": [
  {
   "cell_type": "markdown",
   "metadata": {},
   "source": [
    "## Project 4-2 : Data Acquisition SQL"
   ]
  },
  {
   "cell_type": "markdown",
   "metadata": {},
   "source": [
    "## Assignment Instructions\n",
    "\n",
    "### Description\n",
    "\n",
    "Some SQL problems.\n",
    "\n",
    "### Grading\n",
    "\n",
    "For grading purposes, we will clear all outputs from all your cells and then run them all from the top.  Please test your notebook in the same fashion before turning it in.\n",
    "\n",
    "### Submitting Your Solution\n",
    "\n",
    "To submit your notebook, first clear all the cells (this won't matter too much this time, but for larger data sets in the future, it will make the file smaller).  Then use the File->Download As->Notebook to obtain the notebook file.  Finally, submit the notebook file on Canvas."
   ]
  },
  {
   "cell_type": "code",
   "execution_count": null,
   "metadata": {},
   "outputs": [],
   "source": [
    "import numpy as np\n",
    "import pandas as pd\n",
    "from pandas import Series, DataFrame\n",
    "from sqlalchemy import create_engine, inspect"
   ]
  },
  {
   "cell_type": "markdown",
   "metadata": {},
   "source": [
    "### Problem: SQL (50 points)\n",
    "\n",
    "Use the csci303 database downloaded in class and code provided (12-SQL_New) to answer the following questions.  Note that you can answer every one of these questions just with single SQL queries, but you are free to instead pull data into pandas and answer the questions that way, or use multiple queries, etc.\n",
    "\n",
    "The data you'll be working with is from the [Bureau of Labor Statistics](https://www.bls.gov/emp/documentation/education-training-system.htm).\n",
    "<br>There are three tables:\n",
    "- `occupation_codes` provides a mapping between two different organization's occupation codes and titles.  You'll need this table to lookup occupation codes for the other two tables.\n",
    "- `occupation_attainments` gives the percentages of workers (aged 25 or older) in each occupation (in 2014-2015) who had attained a particular level of education.\n",
    "- `occupation_assignments` gives requirements for each occupation in terms of education, experience, and on-the-job training.\n",
    "\n",
    "The code to inspect the names and types of the columns in thses tables is given below. Feel free to comment this out once you get a feel for the table structures."
   ]
  },
  {
   "cell_type": "markdown",
   "metadata": {},
   "source": [
    "## SET UP\n",
    "\n",
    "To set up we have to create an inspector on the database to get the information we need! To do so we will follow these steps:\n",
    "1. Create a Database variable, this holds the name of the database you downloaded for this assignment!\n",
    "2. Create an inspector object and create_engine on the database object from # 1\n",
    "3. Print out information from the database to gain a better understanding of what it contains!"
   ]
  },
  {
   "cell_type": "markdown",
   "metadata": {},
   "source": [
    "---\n",
    "\n",
    "**Questions for Set Up (Edit this cell):**\n",
    "\n",
    "---\n",
    "\n",
    "(a) What is the variable type of the acs_code column?\n",
    "\n",
    "(b) What does the 'Real' column type mean?\n",
    "\n",
    "\n",
    "(c) What column(s) are shared amongst the three tables? This is how they are related!!"
   ]
  },
  {
   "cell_type": "code",
   "execution_count": null,
   "metadata": {},
   "outputs": [],
   "source": [
    "#FINISH THIS CODE\n",
    "\n",
    "dburi = 'sqlite:///csci303.sqlite3' # Data base connection!\n",
    "inspector = inspect(create_engine(dburi)) # Here we have created an inspector to take a look at the db!\n",
    "\n",
    "tables = list(filter(lambda name: \"occupation\" in name, inspector.get_table_names()))\n",
    "\n",
    "# Loop through the tables list and print all of the table names and columns\n",
    "for table in tables:\n",
    "    print(\"Table name: \", table) # Print the table name (table)\n",
    "    for column in inspector.get_columns(table): # Print the column name and type, think of the column as a dataframe, column['xxx']\n",
    "        print(\"Column name: %s: %s\" % (column['TODO'], column['TODO'])) # TODO enter in what you want from the columns\n",
    "    print()"
   ]
  },
  {
   "cell_type": "markdown",
   "metadata": {},
   "source": [
    "---\n",
    "\n",
    "**Questions for Problem 2 (Edit this cell):**\n",
    "\n",
    "---\n",
    "\n",
    "(a) What are the SOC and ACS codes for 'Database administrators ' - (this may have a space at the end)?\n",
    "\n",
    "\n",
    "(b) How many SOC occupation titles are there grouped under the ACS title 'Postsecondary teachers'?\n",
    "\n",
    "\n",
    "(c) How much education and prior experience do you typically need to become a software developer?\n",
    "\n",
    "\n",
    "(d) What SOC occupation has the highest percentage of doctoral or professional degree holders?\n",
    "\n",
    "EXTRA CREDIT: (5pts) What acs_title has the longest length? (There are two right answers!)"
   ]
  },
  {
   "cell_type": "code",
   "execution_count": null,
   "metadata": {},
   "outputs": [],
   "source": [
    "# YOUR CODE HERE"
   ]
  },
  {
   "cell_type": "markdown",
   "metadata": {},
   "source": [
    "### Questionnaire\n",
    "1) How long did you spend on this assignment?\n",
    "<br><br>\n",
    "2) What did you like about it? What did you not like about it?\n",
    "<br><br>\n",
    "3) Did you find any errors or is there anything you would like changed?\n",
    "<br><br>"
   ]
  },
  {
   "cell_type": "code",
   "execution_count": null,
   "metadata": {},
   "outputs": [],
   "source": []
  }
 ],
 "metadata": {
  "kernelspec": {
   "display_name": "Python 3",
   "language": "python",
   "name": "python3"
  },
  "language_info": {
   "codemirror_mode": {
    "name": "ipython",
    "version": 3
   },
   "file_extension": ".py",
   "mimetype": "text/x-python",
   "name": "python",
   "nbconvert_exporter": "python",
   "pygments_lexer": "ipython3",
   "version": "3.6.5"
  }
 },
 "nbformat": 4,
 "nbformat_minor": 2
}
