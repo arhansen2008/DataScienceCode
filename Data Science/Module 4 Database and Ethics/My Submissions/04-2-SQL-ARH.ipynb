{
 "cells": [
  {
   "cell_type": "markdown",
   "metadata": {},
   "source": [
    "## Project 4-2 : Data Acquisition SQL"
   ]
  },
  {
   "cell_type": "markdown",
   "metadata": {},
   "source": [
    "## Assignment Instructions\n",
    "\n",
    "### Description\n",
    "\n",
    "Some SQL problems.\n",
    "\n",
    "### Grading\n",
    "\n",
    "For grading purposes, we will clear all outputs from all your cells and then run them all from the top.  Please test your notebook in the same fashion before turning it in.\n",
    "\n",
    "### Submitting Your Solution\n",
    "\n",
    "To submit your notebook, first clear all the cells (this won't matter too much this time, but for larger data sets in the future, it will make the file smaller).  Then use the File->Download As->Notebook to obtain the notebook file.  Finally, submit the notebook file on Canvas."
   ]
  },
  {
   "cell_type": "code",
   "execution_count": null,
   "metadata": {},
   "outputs": [],
   "source": [
    "import numpy as np\n",
    "import pandas as pd\n",
    "from pandas import Series, DataFrame\n",
    "from sqlalchemy import create_engine, inspect"
   ]
  },
  {
   "cell_type": "markdown",
   "metadata": {},
   "source": [
    "### Problem: SQL (50 points)\n",
    "\n",
    "Use the csci303 database downloaded in class and code provided (12-SQL_New) to answer the following questions.  Note that you can answer every one of these questions just with single SQL queries, but you are free to instead pull data into pandas and answer the questions that way, or use multiple queries, etc.\n",
    "\n",
    "The data you'll be working with is from the [Bureau of Labor Statistics](https://www.bls.gov/emp/documentation/education-training-system.htm).\n",
    "<br>There are three tables:\n",
    "- `occupation_codes` provides a mapping between two different organization's occupation codes and titles.  You'll need this table to lookup occupation codes for the other two tables.\n",
    "- `occupation_attainments` gives the percentages of workers (aged 25 or older) in each occupation (in 2014-2015) who had attained a particular level of education.\n",
    "- `occupation_assignments` gives requirements for each occupation in terms of education, experience, and on-the-job training.\n",
    "\n",
    "The code to inspect the names and types of the columns in thses tables is given below. Feel free to comment this out once you get a feel for the table structures."
   ]
  },
  {
   "cell_type": "markdown",
   "metadata": {},
   "source": [
    "## SET UP\n",
    "\n",
    "To set up we have to create an inspector on the database to get the information we need! To do so we will follow these steps:\n",
    "1. Create a Database variable, this holds the name of the database you downloaded for this assignment!\n",
    "2. Create an inspector object and create_engine on the database object from # 1\n",
    "3. Print out information from the database to gain a better understanding of what it contains!"
   ]
  },
  {
   "cell_type": "markdown",
   "metadata": {},
   "source": [
    "---\n",
    "\n",
    "**Questions for Set Up (Edit this cell):**\n",
    "\n",
    "---\n",
    "\n",
    "(a) What is the variable type of the acs_code column? <font color = blue>Integer</font>\n",
    "\n",
    "(b) What does the 'Real' column type mean? <font color = blue>A real number with decimal places</font>\n",
    "\n",
    "(c) What column(s) are shared amongst the three tables? This is how they are related!! <font color = blue> soc_code</font>"
   ]
  },
  {
   "cell_type": "code",
   "execution_count": null,
   "metadata": {},
   "outputs": [],
   "source": [
    "#FINISH THIS CODE\n",
    "\n",
    "dburi = 'sqlite:///csci303.sqlite3' # Data base connection!\n",
    "inspector = inspect(create_engine(dburi)) # Here we have created an inspector to take a look at the db!\n",
    "\n",
    "#lamda function! \n",
    "tables = list(filter(lambda name: \"occupation\" in name, inspector.get_table_names()))\n",
    "\n",
    "#returns list of all tables in a database\n",
    "# inspector.get_table_names('main')\n",
    "\n",
    "#returns list of tables with \"occupation\" in the name from database\n",
    "tables"
   ]
  },
  {
   "cell_type": "code",
   "execution_count": null,
   "metadata": {},
   "outputs": [],
   "source": [
    "# pd.read_sql_query(\"SELECT * FROM occupation_assignments\", create_engine(dburi))"
   ]
  },
  {
   "cell_type": "code",
   "execution_count": null,
   "metadata": {},
   "outputs": [],
   "source": [
    "# pd.DataFrame(inspector.get_columns('occupation_codes','main'))\n",
    "# pd.DataFrame(inspector.get_columns('occupation_codes'),columns=['name','type'])"
   ]
  },
  {
   "cell_type": "code",
   "execution_count": null,
   "metadata": {},
   "outputs": [],
   "source": [
    "# Loop through the tables list and print all of the table names and columns\n",
    "for table in tables:\n",
    "    print(\"Table name: \", table) # Print the table name (table)\n",
    "    for column in inspector.get_columns(table): # Print the column name and type, think of the column as a dataframe, column['xxx']\n",
    "        print(\"Column name: %s: %s\" % (column['name'], column['type'])) # TODO enter in what you want from the columns\n",
    "    print()\n",
    "    \n",
    "#we use 'name' and 'type' because looking at the questions above they ask about what data TYPE is a specific column (NAME).\n",
    "#they also ask what are the common column names (we could use code to count probably, but eyes are easier here)\n",
    "\n",
    "#soc_code 3, thats it"
   ]
  },
  {
   "cell_type": "markdown",
   "metadata": {},
   "source": [
    "---\n",
    "\n",
    "**Questions for Problem 2 (Edit this cell):**\n",
    "\n",
    "---\n",
    "\n",
    "(a) What are the SOC and ACS codes for 'Database administrators ' - (this may have a space at the end)?\n",
    "\n",
    "<font color = blue>soc_code 15-1141\t       acs_code\t1060</font>\n",
    "\n",
    "\n",
    "(b) How many SOC occupation titles are there grouped under the ACS title 'Postsecondary teachers'?\n",
    "\n",
    "<font color = blue>38</font>\n",
    "\n",
    "(c) How much education and prior experience do you typically need to become a software developer?\n",
    "\n",
    "<font color = blue>First I had to go understand how the data was being presented for occupation_assignments... I understand now each value reported under the education level is a % of people in that field with that degree level. \n",
    "    https://www.bls.gov/emp/tables/educational-attainment.htm\n",
    "\n",
    "So, it looks like roughly 49% have Bachelors and 30% have Masters. However, it appears that only a bachelor's with no previous experience is *required* in order to get a job.</font>\n",
    "\n",
    "(d) What SOC occupation has the highest percentage of doctoral or professional degree holders? \n",
    "\n",
    "<font color = blue>Podiatrists</font>\n",
    "\n",
    "EXTRA CREDIT: (5pts) What acs_title has the longest length? (There are two right answers!)\n",
    "\n",
    "<font color = blue>\"Miscellaneous food preparation and serving related workers, including dining room and cafeteria attendants and bartender helpers\" if we go by character count (with or without spaces)\n",
    "\n",
    "\"Broadcast and sound engineering technicians and radio operators, and media and communication equipment workers, all other\" could tie the former in word count (both 16), but not in characters.\n",
    "    \n",
    "Is this what was referred to when you said two right answers? Or just the fact that the entries get duplicated?\n",
    "\n",
    "</font>\n",
    "\n"
   ]
  },
  {
   "cell_type": "code",
   "execution_count": null,
   "metadata": {},
   "outputs": [],
   "source": [
    "#(a) What are the SOC and ACS codes for 'Database administrators ' - (this may have a space at the end)?\n",
    "\n",
    "query = \"\"\"\n",
    "SELECT soc_title, soc_code, acs_title, acs_code\n",
    "FROM  occupation_codes\n",
    "WHERE soc_title LIKE 'Database administrators%%' or acs_title LIKE 'Database administrators%%'\n",
    "\"\"\"\n",
    "\n",
    "pd.read_sql_query(query, dburi)"
   ]
  },
  {
   "cell_type": "code",
   "execution_count": null,
   "metadata": {},
   "outputs": [],
   "source": [
    "#(b) How many SOC occupation titles are there grouped under the ACS title 'Postsecondary teachers'?\n",
    "\n",
    "#this will show you all the individual soc titles for the acs title\n",
    "# query = \"\"\"\n",
    "# SELECT soc_title, soc_code, acs_title, acs_code\n",
    "# FROM  occupation_codes\n",
    "# WHERE acs_title IS 'Postsecondary teachers'\n",
    "# ORDER by soc_title\n",
    "# \"\"\"\n",
    "\n",
    "# pd.read_sql_query(query, dburi)\n",
    "\n",
    "\n",
    "query = \"\"\"\n",
    "SELECT acs_title, COUNT(DISTINCT soc_title) AS title_cnt\n",
    "FROM  occupation_codes\n",
    "WHERE acs_title IS 'Postsecondary teachers'\n",
    "ORDER by soc_title\n",
    "\"\"\"\n",
    "\n",
    "pd.read_sql_query(query, dburi)"
   ]
  },
  {
   "cell_type": "code",
   "execution_count": null,
   "metadata": {},
   "outputs": [],
   "source": [
    "#(c) How much education and prior experience do you typically need to become a software developer?\n",
    "\n",
    "#first find the soc_title\n",
    "query = \"\"\"\n",
    "SELECT soc_title, acs_title, soc_code\n",
    "FROM  occupation_codes\n",
    "WHERE acs_title LIKE '%%software%%' OR soc_title LIKE '%%software%%'\n",
    "\"\"\"\n",
    "\n",
    "pd.read_sql_query(query, dburi)"
   ]
  },
  {
   "cell_type": "code",
   "execution_count": null,
   "metadata": {},
   "outputs": [],
   "source": [
    "#Let's see what the job requirements are...\n",
    "query = \"\"\"\n",
    "SELECT *\n",
    "FROM  occupation_assignments\n",
    "WHERE soc_code IS '15-1132' OR soc_code IS '15-1133'\n",
    "\"\"\"\n",
    "\n",
    "pd.read_sql_query(query, dburi)"
   ]
  },
  {
   "cell_type": "code",
   "execution_count": null,
   "metadata": {},
   "outputs": [],
   "source": [
    "#so lets look at the actual count of degrees in that job\n",
    "query = \"\"\"\n",
    "SELECT *\n",
    "FROM  occupation_attainments\n",
    "WHERE soc_code IS '15-1132' OR soc_code IS '15-1133'\n",
    "\"\"\"\n",
    "\n",
    "pd.read_sql_query(query, dburi)"
   ]
  },
  {
   "cell_type": "code",
   "execution_count": null,
   "metadata": {},
   "outputs": [],
   "source": [
    "#(d) What SOC occupation has the highest percentage of doctoral or professional degree holders?\n",
    "\n",
    "query = \"\"\"\n",
    "SELECT ass.soc_code, soc_title, doctoral_or_professional\n",
    "FROM  occupation_attainments AS att JOIN occupation_codes AS cod \n",
    "ON att.soc_code = cod.soc_code\n",
    "JOIN occupation_assignments AS ass\n",
    "ON cod.soc_code = ass.soc_code\n",
    "ORDER by doctoral_or_professional DESC\n",
    "\"\"\"\n",
    "\n",
    "pd.read_sql_query(query, dburi)"
   ]
  },
  {
   "cell_type": "code",
   "execution_count": null,
   "metadata": {},
   "outputs": [],
   "source": [
    "#EXTRA CREDIT: (5pts) What acs_title has the longest length? (There are two right answers!)\n",
    "\n",
    "query = \"\"\"\n",
    "SELECT DISTINCT acs_title, LENGTH(acs_title) AS length\n",
    "FROM  occupation_codes\n",
    "ORDER by length DESC\n",
    "\"\"\"\n",
    "\n",
    "pd.set_option('display.max_colwidth', None)\n",
    "pd.read_sql_query(query, dburi)\n",
    "\n",
    "#First) 128 characters, 113 no spaces, 16 words\n",
    "#Second) 122 c, 109 ns, 14 words\n",
    "#Third) 121 c, 106 ns, 16 words"
   ]
  },
  {
   "cell_type": "markdown",
   "metadata": {},
   "source": [
    "### Questionnaire\n",
    "1) How long did you spend on this assignment? \n",
    "\n",
    "<font color = blue> An hour to two.</font>\n",
    "<br><br>\n",
    "2) What did you like about it? What did you not like about it?\n",
    "    \n",
    "<font color = blue>I liked the progression of using SQL through the problems. Looking back I could probably solve C in one SQL query, however I felt like I got the practice from doing it in D. The syntax of SQL is strange, but I find it more intuitive and fun to work with than using typical python language for finding information. </font>\n",
    "<br><br>\n",
    "3) Did you find any errors or is there anything you would like changed?\n",
    "  \n",
    "<font color = blue> Honestly, I could have done one or two more problems. By the time I got to D I felt like I was on a roll and the problem was much easier to handle than C. </font>\n",
    "<br><br>"
   ]
  },
  {
   "cell_type": "code",
   "execution_count": null,
   "metadata": {},
   "outputs": [],
   "source": [
    "#I decided I would attemtp to do C in one code...\n",
    "#(c) How much education and prior experience do you typically need to become a software developer?\n",
    "\n",
    "\n",
    "query = \"\"\"\n",
    "SELECT cod.acs_title, ass.education, ass.experience, att.*\n",
    "FROM  occupation_attainments AS att JOIN occupation_codes AS cod \n",
    "ON att.soc_code = cod.soc_code\n",
    "JOIN occupation_assignments AS ass\n",
    "ON cod.soc_code = ass.soc_code\n",
    "WHERE cod.acs_title LIKE '%%software%%'\n",
    "\"\"\"\n",
    "\n",
    "pd.read_sql_query(query, dburi)"
   ]
  },
  {
   "cell_type": "code",
   "execution_count": null,
   "metadata": {},
   "outputs": [],
   "source": []
  }
 ],
 "metadata": {
  "kernelspec": {
   "display_name": "Python 3 (ipykernel)",
   "language": "python",
   "name": "python3"
  },
  "language_info": {
   "codemirror_mode": {
    "name": "ipython",
    "version": 3
   },
   "file_extension": ".py",
   "mimetype": "text/x-python",
   "name": "python",
   "nbconvert_exporter": "python",
   "pygments_lexer": "ipython3",
   "version": "3.9.15"
  }
 },
 "nbformat": 4,
 "nbformat_minor": 2
}
