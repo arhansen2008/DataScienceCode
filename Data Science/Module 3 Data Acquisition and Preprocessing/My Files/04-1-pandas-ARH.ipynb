{
 "cells": [
  {
   "cell_type": "markdown",
   "metadata": {},
   "source": [
    "## Project 4-1 : Data Acquisition"
   ]
  },
  {
   "cell_type": "markdown",
   "metadata": {},
   "source": [
    "## Assignment Instructions\n",
    "\n",
    "### Description\n",
    "\n",
    "Some pandas and data acquisition problems.\n",
    "\n",
    "### Grading\n",
    "\n",
    "For grading purposes, we will clear all outputs from all your cells and then run them all from the top.  Please test your notebook in the same fashion before turning it in.\n",
    "\n",
    "### Submitting Your Solution\n",
    "\n",
    "To submit your notebook, first clear all the cells (this won't matter too much this time, but for larger data sets in the future, it will make the file smaller).  Then use the File->Download As->Notebook to obtain the notebook file.  Finally, submit the notebook file on Canvas."
   ]
  },
  {
   "cell_type": "markdown",
   "metadata": {},
   "source": [
    "### Helpful Resources\n",
    "There may be more posted in a Canvas announcement, so be sure to check there, as well.\n",
    "- [iloc and loc](https://www.shanelynn.ie/select-pandas-dataframe-rows-and-columns-using-iloc-loc-and-ix/)"
   ]
  },
  {
   "cell_type": "code",
   "execution_count": null,
   "metadata": {},
   "outputs": [],
   "source": [
    "# Imports\n",
    "import numpy as np\n",
    "import pandas as pd\n",
    "from pandas import Series, DataFrame"
   ]
  },
  {
   "cell_type": "markdown",
   "metadata": {},
   "source": [
    "### Problem: pandas and text file acquisition (20 points)\n",
    "\n",
    "Included with this assignment is a text file named `plants.txt` (source: [USDA](https://plants.usda.gov/java/)).  **Read this file into a pandas DataFrame object** (10 points), then write code to **find the answers to the questions** that follow (5 points each).  There are many ways to answer each of these questions - see if you can answer each in `3` lines of code or less (this won't affect your grade).  Show us your code below."
   ]
  },
  {
   "cell_type": "code",
   "execution_count": null,
   "metadata": {},
   "outputs": [],
   "source": [
    "#!cat plants.txt\n",
    "#pd.read_table?"
   ]
  },
  {
   "cell_type": "code",
   "execution_count": null,
   "metadata": {},
   "outputs": [],
   "source": [
    "plnt = pd.read_table('plants.txt', sep=',',index_col='Symbol')\n",
    "plnt"
   ]
  },
  {
   "cell_type": "code",
   "execution_count": null,
   "metadata": {},
   "outputs": [],
   "source": [
    "#plnt.info()"
   ]
  },
  {
   "cell_type": "markdown",
   "metadata": {},
   "source": [
    "---\n",
    "\n",
    "**Questions for Problem (Write answers in this cell):**\n",
    "\n",
    "---\n",
    "\n",
    "(a) What is the common name of the plant whose symbol (in the Plants database) is 'ECAP'? <font color = blue> yellow asphodel </font>\n",
    "\n",
    "\n",
    "\n",
    "(b) How many plants are listed in the Agavaceae family?<font color=blue> If we assume each row is a unique plant 253. Based on my understanding of the data each row is a unique plant and there are no duplicates.</font>\n",
    "\n",
    "(c) How many different family names are there (ignoring missing/null family names)? <font color = blue> 542</font>\n",
    "<br>**Note:** There are two acceptable answers to this questions that differ by 1.\n",
    "\n",
    "\n",
    "(d) How many plants have the term 'vulgaris' in their scientific name? <font color = blue> 133\n"
   ]
  },
  {
   "cell_type": "code",
   "execution_count": null,
   "metadata": {},
   "outputs": [],
   "source": [
    "# Your Code Here\n",
    "# Use the lecture notes to look through the data frame to properly answer the questions above!\n",
    "# Start by reading the plants file into a pandas dataframe... did that above\n",
    "\n",
    "#(a)\n",
    "plntNAAM = plnt.loc['NAAM']\n",
    "plntNAAM"
   ]
  },
  {
   "cell_type": "code",
   "execution_count": null,
   "metadata": {},
   "outputs": [],
   "source": [
    "#(b)\n",
    "plntAgav = plnt.loc[plnt[\"Family\"]=='Agavaceae']\n",
    "plntAgav"
   ]
  },
  {
   "cell_type": "code",
   "execution_count": null,
   "metadata": {},
   "outputs": [],
   "source": [
    "#(c)\n",
    "#plntFam = plnt[\"Family\"].replace('',np.nan).nunique()\n",
    "plntFam = plnt[\"Family\"].nunique()\n",
    "plntFam\n",
    "\n",
    "# plntFamnull = plnt[\"Family\"].isnull().sum()\n",
    "# print(plntFamnull)\n",
    "\n",
    "# plntFamNa = plnt[\"Family\"].isna().sum()\n",
    "# print(plntFamNa)\n",
    "\n",
    "# plntFamBlank = (plnt[\"Family\"] == \"\").sum()\n",
    "# print(plntFamBlank)"
   ]
  },
  {
   "cell_type": "code",
   "execution_count": null,
   "metadata": {},
   "outputs": [],
   "source": [
    "#(d)\n",
    "\n",
    "# Use str.contains() to create a boolean mask\n",
    "plntVulg = plnt['Scientific Name with Author'].str.contains('vulgaris', case=False)\n",
    "\n",
    "# Use the mask to filter rows containing the search term\n",
    "result = plnt[plntVulg]\n",
    "result\n"
   ]
  },
  {
   "cell_type": "code",
   "execution_count": null,
   "metadata": {},
   "outputs": [],
   "source": [
    "#(d)2... I was curious if vulgaris was in any of the family names too, but I couldn't search the family column\n",
    "#with the code above, so I did some searching and found this!\n",
    "\n",
    "#I had to google this. So I learned about applymap and how lambda functions work\n",
    "# Create a boolean mask by applying a lambda function to each cell in the DataFrame\n",
    "# The lambda function checks if the search term is in the cell value\n",
    "plntVulg2 = plnt.applymap(lambda cell: 'vulgaris' in str(cell))\n",
    "\n",
    "# Use the mask to filter rows containing the search term\n",
    "result2 = plnt[plntVulg2.any(axis=1)] #axis=1 so that it searches rows not columns\n",
    "result2"
   ]
  },
  {
   "cell_type": "markdown",
   "metadata": {},
   "source": [
    "### Questionnaire\n",
    "1) How long did you spend on this assignment?\n",
    "<br><br><font color = blue>About 1-2 hours while also getting distracted.</font>\n",
    "\n",
    "2) What did you like about it? What did you not like about it?\n",
    "<br><br> <font color = blue>I liked getting the practice with loc and working with a pandas data frame. I struggled with (d) at first as I missed that it was for the Scientific name only... so I was trying to search all the columns for vulgaris. Then realized it should not be this hard, based on the assignment. But, after I solved d, I wanted to figure out how to search all of the data frame and discovered some new things!\n",
    "\n",
    "I did not see any need to use iloc in this assignment. I could have interchanged it I realize, but I definitely prefer loc when I can. It makes it easier to read the code, as I struggle when we are just using integers. Also I would be curious about the other methods for solving (c)...</font>\n",
    "\n",
    "3) Did you find any errors or is there anything you would like changed?\n",
    "    <br><br> <font color = blue>Not that I noticed.</font>"
   ]
  },
  {
   "cell_type": "code",
   "execution_count": null,
   "metadata": {},
   "outputs": [],
   "source": []
  }
 ],
 "metadata": {
  "kernelspec": {
   "display_name": "Python 3 (ipykernel)",
   "language": "python",
   "name": "python3"
  },
  "language_info": {
   "codemirror_mode": {
    "name": "ipython",
    "version": 3
   },
   "file_extension": ".py",
   "mimetype": "text/x-python",
   "name": "python",
   "nbconvert_exporter": "python",
   "pygments_lexer": "ipython3",
   "version": "3.9.15"
  }
 },
 "nbformat": 4,
 "nbformat_minor": 2
}
