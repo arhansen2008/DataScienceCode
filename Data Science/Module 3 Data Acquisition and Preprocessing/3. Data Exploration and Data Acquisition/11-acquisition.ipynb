{
 "cells": [
  {
   "cell_type": "markdown",
   "metadata": {
    "collapsed": true,
    "slideshow": {
     "slide_type": "slide"
    }
   },
   "source": [
    "##### CSCI 303\n",
    "# Introduction to Data Science\n",
    "<p/>\n",
    "### 11 - Data Acquisition\n",
    "\n",
    "\n"
   ]
  },
  {
   "cell_type": "markdown",
   "metadata": {
    "slideshow": {
     "slide_type": "slide"
    }
   },
   "source": [
    "## This Lecture\n",
    "---\n",
    "- Importing data using Python and pandas"
   ]
  },
  {
   "cell_type": "markdown",
   "metadata": {
    "slideshow": {
     "slide_type": "subslide"
    }
   },
   "source": [
    "The obligatory setup code..."
   ]
  },
  {
   "cell_type": "code",
   "execution_count": 1,
   "metadata": {},
   "outputs": [],
   "source": [
    "import numpy as np\n",
    "import pandas as pd\n",
    "\n",
    "from pandas import Series, DataFrame"
   ]
  },
  {
   "cell_type": "markdown",
   "metadata": {
    "slideshow": {
     "slide_type": "slide"
    }
   },
   "source": [
    "## Raw Python\n",
    "---\n",
    "Text-based files are easy to read and write in Python.\n",
    "\n",
    "In particular, files which data is organized into individual lines.\n",
    "\n",
    "There's a sample file, `text.txt`, located in the directory `11-acquisition-files`.\n",
    "\n",
    "We can view it by asking Jupyter to execute the linux command `cat` on the file (only works if you are not using Windows):"
   ]
  },
  {
   "cell_type": "code",
   "execution_count": 1,
   "metadata": {},
   "outputs": [
    {
     "name": "stderr",
     "output_type": "stream",
     "text": [
      "'cat' is not recognized as an internal or external command,\n",
      "operable program or batch file.\n"
     ]
    }
   ],
   "source": [
    "!cat 11-acquisition-files/text.txt"
   ]
  },
  {
   "cell_type": "markdown",
   "metadata": {
    "slideshow": {
     "slide_type": "subslide"
    }
   },
   "source": [
    "Reading the file via Python is pretty simple (use this if you are using a Windows operating system):"
   ]
  },
  {
   "cell_type": "code",
   "execution_count": 5,
   "metadata": {
    "slideshow": {
     "slide_type": "-"
    }
   },
   "outputs": [
    {
     "ename": "FileNotFoundError",
     "evalue": "[Errno 2] No such file or directory: '11-acquisition-files/text.txt'",
     "output_type": "error",
     "traceback": [
      "\u001b[1;31m---------------------------------------------------------------------------\u001b[0m",
      "\u001b[1;31mFileNotFoundError\u001b[0m                         Traceback (most recent call last)",
      "\u001b[1;32m<ipython-input-5-aa711c25b086>\u001b[0m in \u001b[0;36m<module>\u001b[1;34m\u001b[0m\n\u001b[1;32m----> 1\u001b[1;33m \u001b[0mf\u001b[0m \u001b[1;33m=\u001b[0m \u001b[0mopen\u001b[0m\u001b[1;33m(\u001b[0m\u001b[1;34m'11-acquisition-files/text.txt'\u001b[0m\u001b[1;33m)\u001b[0m \u001b[1;31m# get an open file object\u001b[0m\u001b[1;33m\u001b[0m\u001b[1;33m\u001b[0m\u001b[0m\n\u001b[0m\u001b[0;32m      2\u001b[0m \u001b[1;32mfor\u001b[0m \u001b[0mline\u001b[0m \u001b[1;32min\u001b[0m \u001b[0mf\u001b[0m\u001b[1;33m:\u001b[0m                            \u001b[1;31m# for loops work!\u001b[0m\u001b[1;33m\u001b[0m\u001b[1;33m\u001b[0m\u001b[0m\n\u001b[0;32m      3\u001b[0m     \u001b[0mprint\u001b[0m\u001b[1;33m(\u001b[0m\u001b[0mline\u001b[0m\u001b[1;33m,\u001b[0m \u001b[0mend\u001b[0m\u001b[1;33m=\u001b[0m\u001b[1;34m''\u001b[0m\u001b[1;33m)\u001b[0m                   \u001b[1;31m# print without an endline\u001b[0m\u001b[1;33m\u001b[0m\u001b[1;33m\u001b[0m\u001b[0m\n\u001b[0;32m      4\u001b[0m \u001b[1;33m\u001b[0m\u001b[0m\n\u001b[0;32m      5\u001b[0m \u001b[0mf\u001b[0m\u001b[1;33m.\u001b[0m\u001b[0mclose\u001b[0m\u001b[1;33m(\u001b[0m\u001b[1;33m)\u001b[0m\u001b[1;33m\u001b[0m\u001b[1;33m\u001b[0m\u001b[0m\n",
      "\u001b[1;31mFileNotFoundError\u001b[0m: [Errno 2] No such file or directory: '11-acquisition-files/text.txt'"
     ]
    }
   ],
   "source": [
    "f = open('11-acquisition-files/text.txt') # get an open file object\n",
    "for line in f:                            # for loops work!\n",
    "    print(line, end='')                   # print without an endline\n",
    "\n",
    "f.close()"
   ]
  },
  {
   "cell_type": "markdown",
   "metadata": {
    "slideshow": {
     "slide_type": "subslide"
    }
   },
   "source": [
    "Python has many tools to let us relatively easily parse files like this.\n",
    "\n",
    "For simple files, the string `split` method may suffice:"
   ]
  },
  {
   "cell_type": "code",
   "execution_count": null,
   "metadata": {},
   "outputs": [],
   "source": [
    "f = open('11-acquisition-files/text.txt')\n",
    "for line in f:\n",
    "    print(line.split())\n",
    "f.close()"
   ]
  },
  {
   "cell_type": "markdown",
   "metadata": {
    "slideshow": {
     "slide_type": "subslide"
    }
   },
   "source": [
    "If you know regular expressions, you can parse more complicated files.\n",
    "\n",
    "However, you're unlikely to need something that complicated.\n",
    "\n",
    "Let's bring this data into pandas, the hard way:"
   ]
  },
  {
   "cell_type": "code",
   "execution_count": null,
   "metadata": {},
   "outputs": [],
   "source": [
    "data = []\n",
    "f = open('11-acquisition-files/text.txt')\n",
    "columns = next(f).split()\n",
    "for line in f:\n",
    "    data.append(line.split())\n",
    "f.close()\n",
    "df = DataFrame(data=data, columns=columns)\n",
    "df"
   ]
  },
  {
   "cell_type": "markdown",
   "metadata": {
    "slideshow": {
     "slide_type": "slide"
    }
   },
   "source": [
    "## pandas `read_table`\n",
    "---\n",
    "For many file formats, it is easiest to let pandas do all the work!\n",
    "\n",
    "One of the most basic tools is used to read text files like the one we worked with above is `read_table`."
   ]
  },
  {
   "cell_type": "code",
   "execution_count": null,
   "metadata": {},
   "outputs": [],
   "source": [
    "pd.read_table?"
   ]
  },
  {
   "cell_type": "markdown",
   "metadata": {
    "slideshow": {
     "slide_type": "subslide"
    }
   },
   "source": [
    "We don't need to do much for this file, as it is nicely tab-delimited and has a header row."
   ]
  },
  {
   "cell_type": "code",
   "execution_count": null,
   "metadata": {},
   "outputs": [],
   "source": [
    "df2 = pd.read_table('11-acquisition-files/text.txt')\n",
    "df2"
   ]
  },
  {
   "cell_type": "markdown",
   "metadata": {
    "slideshow": {
     "slide_type": "subslide"
    }
   },
   "source": [
    "Our table might not have a header row, in which case we have to supply column labels:"
   ]
  },
  {
   "cell_type": "code",
   "execution_count": null,
   "metadata": {},
   "outputs": [],
   "source": [
    "df3 = pd.read_table('11-acquisition-files/text-no-header.txt', \n",
    "                    header=None, names=['Person','Age','Income'])\n",
    "df3"
   ]
  },
  {
   "cell_type": "markdown",
   "metadata": {
    "slideshow": {
     "slide_type": "subslide"
    }
   },
   "source": [
    "There are lots of other ways to manipulate the data when reading.\n",
    "\n",
    "For instance, we can make one column the row index:"
   ]
  },
  {
   "cell_type": "code",
   "execution_count": null,
   "metadata": {},
   "outputs": [],
   "source": [
    "df4 = pd.read_table('11-acquisition-files/text.txt', \n",
    "                    index_col=0)\n",
    "df4"
   ]
  },
  {
   "cell_type": "markdown",
   "metadata": {
    "slideshow": {
     "slide_type": "subslide"
    }
   },
   "source": [
    "We can also do this by giving the column header:"
   ]
  },
  {
   "cell_type": "code",
   "execution_count": null,
   "metadata": {},
   "outputs": [],
   "source": [
    "df5 = pd.read_table('11-acquisition-files/text.txt', \n",
    "                    index_col='Name')\n",
    "df5"
   ]
  },
  {
   "cell_type": "markdown",
   "metadata": {
    "slideshow": {
     "slide_type": "subslide"
    }
   },
   "source": [
    "If tabs are not your separator, you can specify separators either as a specific character, or using a regular expression.\n",
    "\n",
    "For arbitrary length whitespace separation, use `'\\s+'`:"
   ]
  },
  {
   "cell_type": "code",
   "execution_count": null,
   "metadata": {},
   "outputs": [],
   "source": [
    "df6 = pd.read_table('11-acquisition-files/text.txt', sep='\\s+')\n",
    "df6"
   ]
  },
  {
   "cell_type": "markdown",
   "metadata": {
    "slideshow": {
     "slide_type": "subslide"
    }
   },
   "source": [
    "Don't want the whole thing?\n",
    "\n",
    "Check out the `nrows` and `skiprows` arguments:"
   ]
  },
  {
   "cell_type": "code",
   "execution_count": null,
   "metadata": {},
   "outputs": [],
   "source": [
    "df7 = pd.read_table('11-acquisition-files/text.txt', nrows=3)\n",
    "df7"
   ]
  },
  {
   "cell_type": "code",
   "execution_count": null,
   "metadata": {},
   "outputs": [],
   "source": [
    "df8 = pd.read_table('11-acquisition-files/text.txt', \n",
    "                    skiprows=[0,1])\n",
    "df8"
   ]
  },
  {
   "cell_type": "markdown",
   "metadata": {
    "slideshow": {
     "slide_type": "slide"
    }
   },
   "source": [
    "## Type Inference in `read_table`\n",
    "---\n",
    "Let's take a closer look at the DataFrame objects we're getting back:"
   ]
  },
  {
   "cell_type": "code",
   "execution_count": null,
   "metadata": {},
   "outputs": [],
   "source": [
    "df9 = pd.read_table('11-acquisition-files/text.txt')\n",
    "print(df9.info())\n",
    "df9"
   ]
  },
  {
   "cell_type": "markdown",
   "metadata": {
    "slideshow": {
     "slide_type": "subslide"
    }
   },
   "source": [
    "It correctly *inferred* the type of the Age column as an integer.\n",
    "\n",
    "But it didn't pick up Salary as a number, which we kind of want.\n",
    "\n",
    "OK, this can be fixed!"
   ]
  },
  {
   "cell_type": "code",
   "execution_count": null,
   "metadata": {},
   "outputs": [],
   "source": [
    "df10 = pd.read_table('11-acquisition-files/text.txt', \n",
    "                     thousands=',')\n",
    "df10.info()\n",
    "#pd.read_table?"
   ]
  },
  {
   "cell_type": "markdown",
   "metadata": {
    "slideshow": {
     "slide_type": "subslide"
    }
   },
   "source": [
    "Dates are also something pandas knows about:"
   ]
  },
  {
   "cell_type": "code",
   "execution_count": null,
   "metadata": {},
   "outputs": [],
   "source": [
    "df11 = pd.read_table('11-acquisition-files/text.txt', \n",
    "                     thousands=',', \n",
    "                     parse_dates=['Hired'])\n",
    "df11.info()"
   ]
  },
  {
   "cell_type": "markdown",
   "metadata": {
    "slideshow": {
     "slide_type": "subslide"
    }
   },
   "source": [
    "The display data now looks slightly different:"
   ]
  },
  {
   "cell_type": "code",
   "execution_count": null,
   "metadata": {},
   "outputs": [],
   "source": [
    "df11"
   ]
  },
  {
   "cell_type": "markdown",
   "metadata": {
    "slideshow": {
     "slide_type": "slide"
    }
   },
   "source": [
    "## pandas `read_csv`\n",
    "---\n",
    "A startling amount of the time, data is available in *comma-separated values* format.\n",
    "\n",
    "The CSV format is commonly used to exchange data between things like spreadsheets and databases.\n",
    "\n",
    "Here's what our data might look like exported from a spreadsheet program:"
   ]
  },
  {
   "cell_type": "code",
   "execution_count": null,
   "metadata": {},
   "outputs": [],
   "source": [
    "!cat 11-acquisition-files/text.csv"
   ]
  },
  {
   "cell_type": "markdown",
   "metadata": {
    "slideshow": {
     "slide_type": "subslide"
    }
   },
   "source": [
    "pandas `read_csv` is pretty much identical to `read_table`, but assumes a CSV format:"
   ]
  },
  {
   "cell_type": "code",
   "execution_count": null,
   "metadata": {},
   "outputs": [],
   "source": [
    "df12 = pd.read_csv('11-acquisition-files/text.csv', \n",
    "                   parse_dates=['Hired'])\n",
    "df12"
   ]
  },
  {
   "cell_type": "markdown",
   "metadata": {
    "slideshow": {
     "slide_type": "slide"
    }
   },
   "source": [
    "## JSON Data\n",
    "---\n",
    "Increasingly data is available in JSON (*JavaScript Object Notation*) format.\n",
    "\n",
    "JSON is a format for exchanging rich, structured data as plain text.\n",
    "\n",
    "JSON object strings look (and act) remarkably like Python code for dictionaries:\n",
    "\n",
    "{ \"Name\" : \"Laura\",\n",
    "  \"Age\" : 52,\n",
    "  \"Salary\" : 103790,\n",
    "  \"Pets\" : [ \n",
    "      { \"type\" : \"rabbit\", \"name\" : \"Gandalf\" },\n",
    "      { \"type\" : \"dog\", \"name\" : \"Aragorn\" }\n",
    "  ]\n",
    "}\n"
   ]
  },
  {
   "cell_type": "markdown",
   "metadata": {
    "slideshow": {
     "slide_type": "subslide"
    }
   },
   "source": [
    "JSON basic types include strings, numbers (integer or floating point), Booleans, and nulls.\n",
    "\n",
    "Compound types are objects and lists, which correspond pretty directly to Python dicts and lists.\n",
    "\n",
    "Python has a library for interpreting JSON strings and turning them into Python objects (and vice versa):\n"
   ]
  },
  {
   "cell_type": "code",
   "execution_count": null,
   "metadata": {
    "slideshow": {
     "slide_type": "subslide"
    }
   },
   "outputs": [],
   "source": [
    "import json\n",
    "\n",
    "s = '''\n",
    "   { \"Name\" : \"Laura\", \n",
    "     \"Age\" : 52, \n",
    "     \"Salary\" : 103790, \n",
    "     \"Pets\" : [ \n",
    "       { \"type\" : \"rabbit\", \"name\" : \"Gandalf\" }, \n",
    "       { \"type\" : \"dog\", \"name\" : \"Aragorn\" } ] }\n",
    "    '''\n",
    "\n",
    "obj = json.loads(s)\n",
    "obj"
   ]
  },
  {
   "cell_type": "markdown",
   "metadata": {
    "slideshow": {
     "slide_type": "subslide"
    }
   },
   "source": [
    "It turns out that pandas DataFrame objects can be created from Python dictionaries, although its approach isn't always exactly what you expect:"
   ]
  },
  {
   "cell_type": "code",
   "execution_count": null,
   "metadata": {},
   "outputs": [],
   "source": [
    "df13 = DataFrame(obj)\n",
    "df13"
   ]
  },
  {
   "cell_type": "markdown",
   "metadata": {
    "slideshow": {
     "slide_type": "subslide"
    }
   },
   "source": [
    "When dictionaries are fairly \"flat\", pandas interprets them pretty sensibly.\n",
    "\n",
    "The two structures it handles best are dictionaries where the keys represent columns, and lists, where the entries are dictionaries representing rows.\n",
    "\n",
    "Here's an example for the first:"
   ]
  },
  {
   "cell_type": "code",
   "execution_count": null,
   "metadata": {},
   "outputs": [],
   "source": [
    "d =  {\"Name\"   : [\"Laura\",\"Shashi\",\"Jun\",\"Bruce\",\"Raluca\"],\n",
    "      \"Age\"    : [52,46,33,48,40],\n",
    "      \"Salary\" : [103790,89100,85500,96445,110080],\n",
    "      \"Hired\"  : [\"1/1/2005\",\"6/16/2010\",\"7/1/2017\",\"12/1/2008\",\"9/15/2012\"]}\n",
    "DataFrame(d)"
   ]
  },
  {
   "cell_type": "markdown",
   "metadata": {
    "slideshow": {
     "slide_type": "subslide"
    }
   },
   "source": [
    "and the second:"
   ]
  },
  {
   "cell_type": "code",
   "execution_count": null,
   "metadata": {},
   "outputs": [],
   "source": [
    "d2 = [\n",
    "    {\"Name\" : \"Laura\", \"Age\" : 52, \"Salary\" : 103790, \"Hired\" : \"1/1/2005\"},\n",
    "    {\"Name\" : \"Shashi\", \"Age\" : 46, \"Salary\" : 89100, \"Hired\" : \"6/16/2010\"},\n",
    "    {\"Name\" : \"Jun\", \"Age\" : 33, \"Salary\" : 85500, \"Hired\" : \"7/1/2017\"},\n",
    "    {\"Name\" : \"Bruce\", \"Age\" : 48, \"Salary\" : 96445, \"Hired\" : \"12/1/2008\"},\n",
    "    {\"Name\" : \"Raluca\", \"Age\" : 40, \"Salary\" : 110080, \"Hired\" : \"9/15/2012\"}\n",
    "]\n",
    "DataFrame(d2)"
   ]
  },
  {
   "cell_type": "markdown",
   "metadata": {
    "slideshow": {
     "slide_type": "subslide"
    }
   },
   "source": [
    "In both cases, pandas re-ordered the columns alphabetically; we can tell it what order we want things in:"
   ]
  },
  {
   "cell_type": "code",
   "execution_count": null,
   "metadata": {},
   "outputs": [],
   "source": [
    "DataFrame(d2, columns=['Name','Age','Salary','Hired'])"
   ]
  },
  {
   "cell_type": "markdown",
   "metadata": {
    "slideshow": {
     "slide_type": "subslide"
    }
   },
   "source": [
    "Additional structures are possible, such as ones in which row index labels are explicitly provided:"
   ]
  },
  {
   "cell_type": "code",
   "execution_count": null,
   "metadata": {},
   "outputs": [],
   "source": [
    "d3 =  {\"Age\"    : {\"Laura\" : 52, \"Shashi\" : 46},\n",
    "       \"Salary\" : {\"Laura\" : 103790, \"Shashi\" : 89100},\n",
    "       \"Hired\"  : {\"Laura\" : \"1/1/2005\", \"Shashi\" : \"6/16/2010\"}}\n",
    "DataFrame(d3)"
   ]
  },
  {
   "cell_type": "markdown",
   "metadata": {
    "slideshow": {
     "slide_type": "subslide"
    }
   },
   "source": [
    "Not surprisingly, then, if data is stored in JSON in any of these structures, pandas can read it quite easily.\n",
    "\n",
    "Here is our simple data set in JSON data formats:"
   ]
  },
  {
   "cell_type": "code",
   "execution_count": null,
   "metadata": {
    "slideshow": {
     "slide_type": "subslide"
    }
   },
   "outputs": [],
   "source": [
    "!cat 11-acquisition-files/json1.json\n",
    "d14 = pd.read_json('11-acquisition-files/json1.json')\n",
    "d14"
   ]
  },
  {
   "cell_type": "code",
   "execution_count": null,
   "metadata": {
    "slideshow": {
     "slide_type": "subslide"
    }
   },
   "outputs": [],
   "source": [
    "!cat 11-acquisition-files/json2.json\n",
    "d15 = pd.read_json('11-acquisition-files/json2.json', \n",
    "                   convert_dates=['Hired'])\n",
    "d15"
   ]
  },
  {
   "cell_type": "markdown",
   "metadata": {
    "slideshow": {
     "slide_type": "subslide"
    }
   },
   "source": [
    "Oddly, there doesn't seem to be a way to set the order of columns in `read_json`, but we can reorder pretty easily:"
   ]
  },
  {
   "cell_type": "code",
   "execution_count": null,
   "metadata": {},
   "outputs": [],
   "source": [
    "d16 = d15[['Name','Age','Salary','Hired']]\n",
    "d16"
   ]
  }
 ],
 "metadata": {
  "anaconda-cloud": {},
  "celltoolbar": "Slideshow",
  "kernelspec": {
   "display_name": "Python 3",
   "language": "python",
   "name": "python3"
  },
  "language_info": {
   "codemirror_mode": {
    "name": "ipython",
    "version": 3
   },
   "file_extension": ".py",
   "mimetype": "text/x-python",
   "name": "python",
   "nbconvert_exporter": "python",
   "pygments_lexer": "ipython3",
   "version": "3.8.5"
  },
  "livereveal": {
   "height": 768,
   "start_slideshow_at": "selected",
   "theme": "mines",
   "transition": "slide",
   "width": 1024
  }
 },
 "nbformat": 4,
 "nbformat_minor": 2
}
