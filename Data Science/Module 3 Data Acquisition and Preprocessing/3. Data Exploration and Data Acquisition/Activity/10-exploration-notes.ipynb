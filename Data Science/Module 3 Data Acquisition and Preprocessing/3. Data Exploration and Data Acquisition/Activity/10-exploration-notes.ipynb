{
 "cells": [
  {
   "cell_type": "markdown",
   "metadata": {
    "collapsed": true,
    "slideshow": {
     "slide_type": "slide"
    }
   },
   "source": [
    "# CSCI 303\n",
    "# Introduction to Data Science\n",
    "<p/>\n",
    "\n",
    "### 10 - Exploratory Data Analysis\n",
    "\n",
    "![Exploratory data analysis](eda.png)"
   ]
  },
  {
   "cell_type": "markdown",
   "metadata": {
    "slideshow": {
     "slide_type": "slide"
    }
   },
   "source": [
    "## This Lecture\n",
    "---\n",
    "- Explore the California Housing data set"
   ]
  },
  {
   "cell_type": "markdown",
   "metadata": {
    "slideshow": {
     "slide_type": "subslide"
    }
   },
   "source": [
    "The obligatory setup code..."
   ]
  },
  {
   "cell_type": "code",
   "execution_count": null,
   "metadata": {},
   "outputs": [],
   "source": [
    "import numpy as np\n",
    "import pandas as pd\n",
    "import matplotlib.pyplot as plt\n",
    "import sklearn as sk\n",
    "import sklearn.datasets\n",
    "\n",
    "from pandas import Series, DataFrame\n",
    "\n",
    "plt.style.use('bmh')\n",
    "\n",
    "%matplotlib inline"
   ]
  },
  {
   "cell_type": "markdown",
   "metadata": {
    "slideshow": {
     "slide_type": "slide"
    }
   },
   "source": [
    "## The California Housing Dataset\n",
    "---\n",
    "A well known and heavily studied dataset for statistical inference.\n",
    "\n",
    "Available in the scikit-learn package, or many sources online."
   ]
  },
  {
   "cell_type": "code",
   "execution_count": null,
   "metadata": {
    "slideshow": {
     "slide_type": "-"
    }
   },
   "outputs": [],
   "source": [
    "from sklearn.datasets import fetch_california_housing    \n",
    "raw = fetch_california_housing()\n",
    "#print(raw.target_names)\n",
    "cali = DataFrame(raw.data, columns=raw.feature_names)\n",
    "\n",
    "#example if you do not want to put the target in the cali dataframe\n",
    "#X = cali\n",
    "#y = raw.target\n",
    "\n",
    "#example if you want to put the target in the cali dataframe, be sure to separate for ML\n",
    "cali['MedHouseVal'] = raw.target\n",
    "X = cali[['HouseAge', 'AveRooms', 'AveBedrms']]\n",
    "y = cali['MedHouseVal']\n",
    "#if you want to remove a column, you can use the .drop\n",
    "#cali = cali.drop('MedHouseVal', axis=1)\n",
    "\n",
    "cali.head()"
   ]
  },
  {
   "cell_type": "code",
   "execution_count": null,
   "metadata": {},
   "outputs": [],
   "source": [
    "print(raw.DESCR)"
   ]
  },
  {
   "cell_type": "markdown",
   "metadata": {
    "slideshow": {
     "slide_type": "slide"
    }
   },
   "source": [
    "## Basic Statistics\n",
    "---\n",
    "pandas provides the `describe` function (similar to R's `summary`):"
   ]
  },
  {
   "cell_type": "code",
   "execution_count": null,
   "metadata": {},
   "outputs": [],
   "source": [
    "cali.describe()"
   ]
  },
  {
   "cell_type": "markdown",
   "metadata": {
    "slideshow": {
     "slide_type": "slide"
    }
   },
   "source": [
    "## What Shall We Explore?\n",
    "---\n",
    "Some ideas:\n",
    "\n",
    "- distributions of individual inputs\n",
    "- correlations between pairs of inputs and/or the target\n",
    "- your suggestion here"
   ]
  },
  {
   "cell_type": "markdown",
   "metadata": {
    "slideshow": {
     "slide_type": "slide"
    }
   },
   "source": [
    "## Distributions\n",
    "---\n",
    "Often best explored via histogram.\n",
    "\n",
    "A histogram divides data into (usually) even sized *bins*, then counts the frequency of occurrence of samples in each bin."
   ]
  },
  {
   "cell_type": "markdown",
   "metadata": {
    "slideshow": {
     "slide_type": "subslide"
    }
   },
   "source": [
    "For example, let's look at average number of rooms per dwelling."
   ]
  },
  {
   "cell_type": "code",
   "execution_count": null,
   "metadata": {},
   "outputs": [],
   "source": [
    "#using the defaults, does this give useful information?\n",
    "plt.hist(cali['AveRooms'])\n",
    "plt.show()"
   ]
  },
  {
   "cell_type": "markdown",
   "metadata": {
    "slideshow": {
     "slide_type": "subslide"
    }
   },
   "source": [
    "Very normal looking, isn't it?  We can vary the number of bins for more or less precision."
   ]
  },
  {
   "cell_type": "code",
   "execution_count": null,
   "metadata": {},
   "outputs": [],
   "source": [
    "#maybe update the range and number of bins\n",
    "plt.hist(cali['AveRooms'], bins=50, range=[1,10])\n",
    "plt.show()"
   ]
  },
  {
   "cell_type": "markdown",
   "metadata": {
    "slideshow": {
     "slide_type": "subslide"
    }
   },
   "source": [
    "How about the average number of household members?"
   ]
  },
  {
   "cell_type": "code",
   "execution_count": null,
   "metadata": {},
   "outputs": [],
   "source": [
    "plt.hist(cali['AveOccup'], bins=20, range=[1,10]) \n",
    "plt.show()"
   ]
  },
  {
   "cell_type": "markdown",
   "metadata": {
    "slideshow": {
     "slide_type": "slide"
    }
   },
   "source": [
    "## Correlations\n",
    "---\n",
    "Often best explored via a scatter plot.\n",
    "\n",
    "I theorize that there will be a correlation between average number of bedrooms and average occupancy.  Let's take a look:"
   ]
  },
  {
   "cell_type": "code",
   "execution_count": null,
   "metadata": {
    "slideshow": {
     "slide_type": "subslide"
    }
   },
   "outputs": [],
   "source": [
    "plt.scatter(cali['AveBedrms'], cali['AveOccup']) \n",
    "plt.xlabel('AveBedrms'); plt.ylabel('AveOccup');\n",
    "plt.show()"
   ]
  },
  {
   "cell_type": "markdown",
   "metadata": {},
   "source": [
    "There seems to be some odd artifacts on the AveOccup axis, we should explore further."
   ]
  },
  {
   "cell_type": "markdown",
   "metadata": {
    "slideshow": {
     "slide_type": "subslide"
    }
   },
   "source": [
    "Let's take a closer look at the AveOccup data."
   ]
  },
  {
   "cell_type": "code",
   "execution_count": null,
   "metadata": {
    "slideshow": {
     "slide_type": "subslide"
    }
   },
   "outputs": [],
   "source": [
    "#find the max to double check the plot?\n",
    "print(cali['AveOccup'].max())\n",
    "\n",
    "#see what the counts of unique values are in this Series object\n",
    "cali['AveOccup'].value_counts().head()\n",
    "#cali['AveOccup'].value_counts()"
   ]
  },
  {
   "cell_type": "markdown",
   "metadata": {
    "slideshow": {
     "slide_type": "-"
    }
   },
   "source": [
    "These large numbers seems suspicious.  Some kind of accidental input, corporate housing, hmm?"
   ]
  },
  {
   "cell_type": "code",
   "execution_count": null,
   "metadata": {
    "slideshow": {
     "slide_type": "subslide"
    }
   },
   "outputs": [],
   "source": [
    "#let's explore just the large values, starting with more than 10 occupants\n",
    "caliSubset = cali[cali['AveOccup'] > 10]\n",
    "caliSubset.describe()"
   ]
  },
  {
   "cell_type": "code",
   "execution_count": null,
   "metadata": {
    "slideshow": {
     "slide_type": "subslide"
    }
   },
   "outputs": [],
   "source": [
    "#looks like there are 37 out of the 20K+ samples that are in this selection\n",
    "caliSubset.head()"
   ]
  },
  {
   "cell_type": "markdown",
   "metadata": {
    "slideshow": {
     "slide_type": "subslide"
    }
   },
   "source": [
    "What are the chances that 37 out of the 20K+ samples are corrupt or not usable?"
   ]
  },
  {
   "cell_type": "code",
   "execution_count": null,
   "metadata": {},
   "outputs": [],
   "source": [
    "#let's redo our scatterplot without those samples in it\n",
    "caliSubset = cali[cali['AveOccup'] <= 10]\n",
    "plt.scatter(caliSubset['AveBedrms'], caliSubset['AveOccup']) \n",
    "plt.xlabel('AveBedrms'); plt.ylabel('AveOccup');\n",
    "plt.show()"
   ]
  },
  {
   "cell_type": "markdown",
   "metadata": {
    "slideshow": {
     "slide_type": "subslide"
    }
   },
   "source": [
    "That looks better!\n",
    "Wait ... now what is going on with the AveBedrms? 35 bedrooms, that is a big house!"
   ]
  },
  {
   "cell_type": "code",
   "execution_count": null,
   "metadata": {},
   "outputs": [],
   "source": [
    "#shall we further refine the dataset, removing those possible outliers, using a best guess?\n",
    "caliSubset = caliSubset[caliSubset['AveBedrms'] <= 13]\n",
    "plt.scatter(caliSubset['AveBedrms'], caliSubset['AveOccup']) \n",
    "plt.xlabel('AveBedrms'); plt.ylabel('AveOccup');\n",
    "plt.show()"
   ]
  },
  {
   "cell_type": "markdown",
   "metadata": {
    "slideshow": {
     "slide_type": "subslide"
    }
   },
   "source": [
    "What shall we look at now? We could check to see if there is a correlation between average number of rooms and the target, median value?"
   ]
  },
  {
   "cell_type": "code",
   "execution_count": null,
   "metadata": {},
   "outputs": [],
   "source": [
    "plt.scatter(caliSubset['AveRooms'], caliSubset['MedHouseVal']) \n",
    "plt.xlabel('AveRooms'); plt.ylabel('MedHouseVal');\n",
    "plt.show()"
   ]
  },
  {
   "cell_type": "code",
   "execution_count": null,
   "metadata": {
    "slideshow": {
     "slide_type": "subslide"
    }
   },
   "outputs": [],
   "source": [
    "#Wow - what is going on at the 500K, lots clustered up there? How should we look?\n",
    "print(caliSubset['MedHouseVal'].max())\n",
    "caliSubset['MedHouseVal'].value_counts().iloc[:10]"
   ]
  },
  {
   "cell_type": "code",
   "execution_count": null,
   "metadata": {
    "slideshow": {
     "slide_type": "subslide"
    }
   },
   "outputs": [],
   "source": [
    "caliSubset[caliSubset['MedHouseVal'] >= 5]"
   ]
  },
  {
   "cell_type": "markdown",
   "metadata": {
    "slideshow": {
     "slide_type": "subslide"
    }
   },
   "source": [
    "I'm quite suspicious that this value is some kind of data-entry default.\n",
    "\n",
    "1. It's the same number, 5.001 for 987 of the entries?\n",
    "2. It's the maximum and same value no matter the number of rooms, age, etc. Could be some big outliers in there!"
   ]
  },
  {
   "cell_type": "markdown",
   "metadata": {},
   "source": [
    "For now, let's remove that data. It might not be justified, but without access to the original data collection info, it makes the most sense to me."
   ]
  },
  {
   "cell_type": "code",
   "execution_count": null,
   "metadata": {
    "slideshow": {
     "slide_type": "subslide"
    }
   },
   "outputs": [],
   "source": [
    "caliSubset = caliSubset[caliSubset['MedHouseVal'] < 5]\n",
    "caliSubset"
   ]
  },
  {
   "cell_type": "markdown",
   "metadata": {
    "slideshow": {
     "slide_type": "subslide"
    }
   },
   "source": [
    "We are left with over 19K samples, we can move on ... see how it goes!\n",
    "\n",
    "We have done some histograms and scatter plots to explore our data, removed some possible outliers ... now what?"
   ]
  },
  {
   "cell_type": "code",
   "execution_count": null,
   "metadata": {},
   "outputs": [],
   "source": [
    "# another way to plot, we can add a 3rd dimension of MedInc using a gradiant of color\n",
    "# using our caliSubset with some outliers removed, plot using the pandas plotting library\n",
    "caliSubset.plot(kind='scatter', x='AveRooms', y='MedHouseVal', c='MedInc', colormap='Blues_r') \n",
    "plt.show()"
   ]
  },
  {
   "cell_type": "code",
   "execution_count": null,
   "metadata": {},
   "outputs": [],
   "source": [
    "# we can change our a 3rd dimension to our target using a gradiant of color\n",
    "# using our caliSubset with some outliers removed, plot using the pandas plotting library\n",
    "caliSubset.plot(kind='scatter', x='AveRooms', y='MedInc', c='MedHouseVal', colormap='Blues_r') \n",
    "plt.show()"
   ]
  },
  {
   "cell_type": "markdown",
   "metadata": {
    "slideshow": {
     "slide_type": "subslide"
    }
   },
   "source": [
    "So these plots makes some sense with the value increasing as the income increases ... \n",
    "\n",
    "- Recall, we removed some suspicious data.\n",
    "\n",
    "- We almost certainly lost some good data.\n",
    "\n",
    "- Was removing data the right thing to do?"
   ]
  },
  {
   "cell_type": "markdown",
   "metadata": {
    "slideshow": {
     "slide_type": "subslide"
    }
   },
   "source": [
    "Other questions we could explore:\n",
    "    \n",
    "- What could we do with the Latitude and Longitude features?\n",
    "- Does population have any berring on the target?\n",
    "- Enter here during class"
   ]
  },
  {
   "cell_type": "code",
   "execution_count": null,
   "metadata": {
    "slideshow": {
     "slide_type": "subslide"
    }
   },
   "outputs": [],
   "source": [
    "# plots all correlations with both a histogram and a scatterplot\n",
    "for f in raw.feature_names:\n",
    "    plt.subplot(1,2,1)\n",
    "    plt.hist(caliSubset[f])\n",
    "    plt.xlabel(f)\n",
    "    plt.subplot(1,2,2)\n",
    "    plt.scatter(caliSubset[f], caliSubset['MedHouseVal'])\n",
    "    plt.xlabel(f)\n",
    "    plt.ylabel('MedHouseVal')\n",
    "    plt.show()\n",
    "    "
   ]
  }
 ],
 "metadata": {
  "anaconda-cloud": {},
  "celltoolbar": "Slideshow",
  "kernelspec": {
   "display_name": "Python 3 (ipykernel)",
   "language": "python",
   "name": "python3"
  },
  "language_info": {
   "codemirror_mode": {
    "name": "ipython",
    "version": 3
   },
   "file_extension": ".py",
   "mimetype": "text/x-python",
   "name": "python",
   "nbconvert_exporter": "python",
   "pygments_lexer": "ipython3",
   "version": "3.9.15"
  },
  "livereveal": {
   "height": 768,
   "start_slideshow_at": "selected",
   "theme": "mines",
   "transition": "slide",
   "width": 1024
  }
 },
 "nbformat": 4,
 "nbformat_minor": 2
}
